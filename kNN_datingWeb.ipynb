{
 "cells": [
  {
   "cell_type": "code",
   "execution_count": 1,
   "metadata": {},
   "outputs": [],
   "source": [
    "from numpy import *\n",
    "import operator\n",
    "import matplotlib\n",
    "import matplotlib.pyplot as plt\n",
    "#创造数据集\n",
    "def createDataSet():\n",
    "    group = array([[1.0,1.1],[1.0,1.0],[0,0],[0,0.1]])\n",
    "    labels = ['A','A','B','B']\n",
    "    return group,labels\n",
    "#k近邻算法分类器\n",
    "def classify0(inX,dataSet,labels,k):\n",
    "    dataSetSize = dataSet.shape[0]\n",
    "    diffMat = tile(inX,(dataSetSize,1)) - dataSet\n",
    "    sqDiffMat = diffMat**2\n",
    "    sqDistances = sqDiffMat.sum(axis=1)\n",
    "    distances = sqDistances**0.5\n",
    "    sortedDistIndicies = distances.argsort()\n",
    "    classCount={}\n",
    "    for i in range(k):\n",
    "        voteLabel = labels[sortedDistIndicies[i]]\n",
    "        classCount[voteLabel] = classCount.get(voteLabel,0) + 1\n",
    "    sortedClassCount = sorted(classCount.items(),key=operator.itemgetter(1),reverse=True)\n",
    "    return sortedClassCount[0][0]"
   ]
  },
  {
   "cell_type": "code",
   "execution_count": 21,
   "metadata": {},
   "outputs": [
    {
     "data": {
      "text/plain": [
       "'A'"
      ]
     },
     "execution_count": 21,
     "metadata": {},
     "output_type": "execute_result"
    }
   ],
   "source": [
    "group,labels = createDataSet()\n",
    "classify0([0.8,1.0],group,labels,3)"
   ]
  },
  {
   "cell_type": "markdown",
   "metadata": {},
   "source": [
    "# 读取数据并处理"
   ]
  },
  {
   "cell_type": "code",
   "execution_count": 2,
   "metadata": {},
   "outputs": [],
   "source": [
    "#读取文件，格式化为分类器可输入格式\n",
    "def file2matrix(filename):\n",
    "    fr = open(filename)\n",
    "    arrayOLines = fr.readlines()\n",
    "    numberOfLines = len(arrayOLines)\n",
    "    returnMat = zeros((numberOfLines,3))\n",
    "    classLabelVector = []\n",
    "    index = 0\n",
    "    for line in arrayOLines:\n",
    "        line = line.strip()\n",
    "        listFromLine = line.split('\\t')\n",
    "        returnMat[index,:] = listFromLine[0:3]\n",
    "        classLabelVector.append(int(listFromLine[-1]))\n",
    "        index += 1\n",
    "    return returnMat,classLabelVector"
   ]
  },
  {
   "cell_type": "code",
   "execution_count": 3,
   "metadata": {},
   "outputs": [],
   "source": [
    "#datingDataMat,datingLabels = file2matrix('datingTestSet2.txt')"
   ]
  },
  {
   "cell_type": "code",
   "execution_count": 4,
   "metadata": {},
   "outputs": [],
   "source": [
    "#datingDataMat"
   ]
  },
  {
   "cell_type": "code",
   "execution_count": 5,
   "metadata": {},
   "outputs": [],
   "source": [
    "#datingLabels[0:20]"
   ]
  },
  {
   "cell_type": "code",
   "execution_count": 6,
   "metadata": {},
   "outputs": [],
   "source": [
    "#fig = plt.figure()\n",
    "#ax =fig.add_subplot(111)\n",
    "#散点图使用datingDataMat矩阵的第一、第二列数据（个性化颜色区分类别）\n",
    "#ax.scatter(datingDataMat[:,0],datingDataMat[:,1],15.0*array(datingLabels),15.0*array(datingLabels))\n",
    "#plt.show()"
   ]
  },
  {
   "cell_type": "code",
   "execution_count": 7,
   "metadata": {},
   "outputs": [],
   "source": [
    "#归一化特征值\n",
    "def autoNorm(dataSet):\n",
    "    minVals = dataSet.min(0)\n",
    "    maxVals = dataSet.max(0)\n",
    "    ranges = maxVals - minVals\n",
    "    normDataSet = zeros(shape(dataSet))\n",
    "    m = dataSet.shape[0]\n",
    "    normDataSet = dataSet - tile(minVals,(m,1))\n",
    "    normDataSet = normDataSet/tile(ranges,(m,1))\n",
    "    return normDataSet,ranges,minVals"
   ]
  },
  {
   "cell_type": "code",
   "execution_count": 8,
   "metadata": {},
   "outputs": [],
   "source": [
    "#normMat,ranges,minVals = autoNorm(datingDataMat)"
   ]
  },
  {
   "cell_type": "code",
   "execution_count": 9,
   "metadata": {},
   "outputs": [],
   "source": [
    "#normMat"
   ]
  },
  {
   "cell_type": "code",
   "execution_count": 10,
   "metadata": {},
   "outputs": [],
   "source": [
    "#ranges"
   ]
  },
  {
   "cell_type": "code",
   "execution_count": 11,
   "metadata": {},
   "outputs": [],
   "source": [
    "#minVals"
   ]
  },
  {
   "cell_type": "markdown",
   "metadata": {},
   "source": [
    "# 测试算法"
   ]
  },
  {
   "cell_type": "code",
   "execution_count": 19,
   "metadata": {},
   "outputs": [],
   "source": [
    "def datingClassTest():\n",
    "    hoRatio = 0.10\n",
    "    datingDataMat,datingLabels = file2matrix('datingTestSet2.txt')\n",
    "    normMat,ranges,minVals = autoNorm(datingDataMat)\n",
    "    m = normMat.shape[0]\n",
    "    numTestVecs = int(m*hoRatio)\n",
    "    errorCount = 0.0\n",
    "    for i in range(numTestVecs):\n",
    "        classifierResult = classify0(normMat[i,:],normMat[numTestVecs:m,:],datingLabels[numTestVecs:m],3)\n",
    "        print (\"the classifier came back with %d,the real answer is: %d\" % (classifierResult,datingLabels[i]))\n",
    "        if(classifierResult != datingLabels[i]):errorCount += 1.0\n",
    "    print (\"the total error rate is:%f\" % (errorCount/float(numTestVecs)))"
   ]
  },
  {
   "cell_type": "code",
   "execution_count": 20,
   "metadata": {
    "collapsed": true
   },
   "outputs": [
    {
     "name": "stdout",
     "output_type": "stream",
     "text": [
      "the classifier came back with 3,the real answer is: 3\n",
      "the classifier came back with 2,the real answer is: 2\n",
      "the classifier came back with 1,the real answer is: 1\n",
      "the classifier came back with 1,the real answer is: 1\n",
      "the classifier came back with 1,the real answer is: 1\n",
      "the classifier came back with 1,the real answer is: 1\n",
      "the classifier came back with 3,the real answer is: 3\n",
      "the classifier came back with 3,the real answer is: 3\n",
      "the classifier came back with 1,the real answer is: 1\n",
      "the classifier came back with 3,the real answer is: 3\n",
      "the classifier came back with 1,the real answer is: 1\n",
      "the classifier came back with 1,the real answer is: 1\n",
      "the classifier came back with 2,the real answer is: 2\n",
      "the classifier came back with 1,the real answer is: 1\n",
      "the classifier came back with 1,the real answer is: 1\n",
      "the classifier came back with 1,the real answer is: 1\n",
      "the classifier came back with 1,the real answer is: 1\n",
      "the classifier came back with 1,the real answer is: 1\n",
      "the classifier came back with 2,the real answer is: 2\n",
      "the classifier came back with 3,the real answer is: 3\n",
      "the classifier came back with 2,the real answer is: 2\n",
      "the classifier came back with 1,the real answer is: 1\n",
      "the classifier came back with 1,the real answer is: 2\n",
      "the classifier came back with 3,the real answer is: 3\n",
      "the classifier came back with 2,the real answer is: 2\n",
      "the classifier came back with 3,the real answer is: 3\n",
      "the classifier came back with 2,the real answer is: 2\n",
      "the classifier came back with 3,the real answer is: 3\n",
      "the classifier came back with 2,the real answer is: 2\n",
      "the classifier came back with 1,the real answer is: 1\n",
      "the classifier came back with 3,the real answer is: 3\n",
      "the classifier came back with 1,the real answer is: 1\n",
      "the classifier came back with 3,the real answer is: 3\n",
      "the classifier came back with 1,the real answer is: 1\n",
      "the classifier came back with 2,the real answer is: 2\n",
      "the classifier came back with 1,the real answer is: 1\n",
      "the classifier came back with 1,the real answer is: 1\n",
      "the classifier came back with 2,the real answer is: 2\n",
      "the classifier came back with 3,the real answer is: 3\n",
      "the classifier came back with 3,the real answer is: 3\n",
      "the classifier came back with 1,the real answer is: 1\n",
      "the classifier came back with 2,the real answer is: 2\n",
      "the classifier came back with 3,the real answer is: 3\n",
      "the classifier came back with 3,the real answer is: 3\n",
      "the classifier came back with 3,the real answer is: 3\n",
      "the classifier came back with 1,the real answer is: 1\n",
      "the classifier came back with 1,the real answer is: 1\n",
      "the classifier came back with 1,the real answer is: 1\n",
      "the classifier came back with 1,the real answer is: 1\n",
      "the classifier came back with 2,the real answer is: 2\n",
      "the classifier came back with 2,the real answer is: 2\n",
      "the classifier came back with 1,the real answer is: 1\n",
      "the classifier came back with 3,the real answer is: 3\n",
      "the classifier came back with 2,the real answer is: 2\n",
      "the classifier came back with 2,the real answer is: 2\n",
      "the classifier came back with 2,the real answer is: 2\n",
      "the classifier came back with 2,the real answer is: 2\n",
      "the classifier came back with 3,the real answer is: 3\n",
      "the classifier came back with 1,the real answer is: 1\n",
      "the classifier came back with 2,the real answer is: 2\n",
      "the classifier came back with 1,the real answer is: 1\n",
      "the classifier came back with 2,the real answer is: 2\n",
      "the classifier came back with 2,the real answer is: 2\n",
      "the classifier came back with 2,the real answer is: 2\n",
      "the classifier came back with 2,the real answer is: 2\n",
      "the classifier came back with 2,the real answer is: 2\n",
      "the classifier came back with 3,the real answer is: 3\n",
      "the classifier came back with 2,the real answer is: 2\n",
      "the classifier came back with 3,the real answer is: 3\n",
      "the classifier came back with 1,the real answer is: 1\n",
      "the classifier came back with 2,the real answer is: 2\n",
      "the classifier came back with 3,the real answer is: 3\n",
      "the classifier came back with 2,the real answer is: 2\n",
      "the classifier came back with 2,the real answer is: 2\n",
      "the classifier came back with 3,the real answer is: 1\n",
      "the classifier came back with 3,the real answer is: 3\n",
      "the classifier came back with 1,the real answer is: 1\n",
      "the classifier came back with 1,the real answer is: 1\n",
      "the classifier came back with 3,the real answer is: 3\n",
      "the classifier came back with 3,the real answer is: 3\n",
      "the classifier came back with 1,the real answer is: 1\n",
      "the classifier came back with 2,the real answer is: 2\n",
      "the classifier came back with 3,the real answer is: 3\n",
      "the classifier came back with 3,the real answer is: 1\n",
      "the classifier came back with 3,the real answer is: 3\n",
      "the classifier came back with 1,the real answer is: 1\n",
      "the classifier came back with 2,the real answer is: 2\n",
      "the classifier came back with 2,the real answer is: 2\n",
      "the classifier came back with 1,the real answer is: 1\n",
      "the classifier came back with 1,the real answer is: 1\n",
      "the classifier came back with 3,the real answer is: 3\n",
      "the classifier came back with 2,the real answer is: 3\n",
      "the classifier came back with 1,the real answer is: 1\n",
      "the classifier came back with 2,the real answer is: 2\n",
      "the classifier came back with 1,the real answer is: 1\n",
      "the classifier came back with 3,the real answer is: 3\n",
      "the classifier came back with 3,the real answer is: 3\n",
      "the classifier came back with 2,the real answer is: 2\n",
      "the classifier came back with 1,the real answer is: 1\n",
      "the classifier came back with 3,the real answer is: 1\n",
      "the total error rate is:0.050000\n"
     ]
    }
   ],
   "source": [
    "datingClassTest()"
   ]
  },
  {
   "cell_type": "markdown",
   "metadata": {},
   "source": [
    "# 使用算法"
   ]
  },
  {
   "cell_type": "code",
   "execution_count": 30,
   "metadata": {},
   "outputs": [],
   "source": [
    "def classifyPerson():\n",
    "    resultList = ['not at all','in small doses','in large doses']\n",
    "    percentTats = float(input(\"percentage of time spent playing video games?\"))\n",
    "    ffMiles = float(input(\"frequent flier miles earned per year?\"))\n",
    "    iceCream = float(input(\"liters of ice cream consumed per year?\"))\n",
    "    datingDataMat,datingLabels = file2matrix('datingTestSet2.txt')\n",
    "    normMat,ranges,minVals = autoNorm(datingDataMat)\n",
    "    inArr = array([ffMiles,percentTats,iceCream])\n",
    "    classifierResult = classify0((inArr-minVals)/ranges,normMat,datingLabels,3)\n",
    "    print (\"You will probably like this person: \",resultList[classifierResult - 1])"
   ]
  },
  {
   "cell_type": "code",
   "execution_count": 32,
   "metadata": {},
   "outputs": [
    {
     "name": "stdout",
     "output_type": "stream",
     "text": [
      "percentage of time spent playing video games?10\n",
      "frequent flier miles earned per year?100000\n",
      "liters of ice cream consumed per year?0.5\n",
      "You will probably like this person:  not at all\n"
     ]
    }
   ],
   "source": [
    "classifyPerson()"
   ]
  },
  {
   "cell_type": "code",
   "execution_count": null,
   "metadata": {},
   "outputs": [],
   "source": []
  }
 ],
 "metadata": {
  "kernelspec": {
   "display_name": "Python 3",
   "language": "python",
   "name": "python3"
  },
  "language_info": {
   "codemirror_mode": {
    "name": "ipython",
    "version": 3
   },
   "file_extension": ".py",
   "mimetype": "text/x-python",
   "name": "python",
   "nbconvert_exporter": "python",
   "pygments_lexer": "ipython3",
   "version": "3.5.2"
  }
 },
 "nbformat": 4,
 "nbformat_minor": 2
}
